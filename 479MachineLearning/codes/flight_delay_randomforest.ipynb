{
 "cells": [
  {
   "cell_type": "markdown",
   "metadata": {},
   "source": [
    "# input data"
   ]
  },
  {
   "cell_type": "code",
   "execution_count": 1,
   "metadata": {},
   "outputs": [],
   "source": [
    "import numpy as np\n",
    "import pandas as pd\n",
    "import matplotlib.pyplot as plt\n",
    "import re \n",
    "import itertools\n",
    "%matplotlib inline"
   ]
  },
  {
   "cell_type": "code",
   "execution_count": 2,
   "metadata": {},
   "outputs": [
    {
     "data": {
      "text/html": [
       "<div>\n",
       "<style scoped>\n",
       "    .dataframe tbody tr th:only-of-type {\n",
       "        vertical-align: middle;\n",
       "    }\n",
       "\n",
       "    .dataframe tbody tr th {\n",
       "        vertical-align: top;\n",
       "    }\n",
       "\n",
       "    .dataframe thead th {\n",
       "        text-align: right;\n",
       "    }\n",
       "</style>\n",
       "<table border=\"1\" class=\"dataframe\">\n",
       "  <thead>\n",
       "    <tr style=\"text-align: right;\">\n",
       "      <th></th>\n",
       "      <th>Month</th>\n",
       "      <th>DayofMonth</th>\n",
       "      <th>DayOfWeek</th>\n",
       "      <th>DepTime</th>\n",
       "      <th>Distance</th>\n",
       "      <th>DepTime_hour</th>\n",
       "      <th>DepTime_min</th>\n",
       "      <th>mae_Afternoon</th>\n",
       "      <th>mae_Morning</th>\n",
       "      <th>mae_Night</th>\n",
       "      <th>...</th>\n",
       "      <th>region_orig_other</th>\n",
       "      <th>ctype_large</th>\n",
       "      <th>ctype_medium</th>\n",
       "      <th>ctype_small</th>\n",
       "      <th>new_month</th>\n",
       "      <th>less_UC</th>\n",
       "      <th>airport_comb_p</th>\n",
       "      <th>airport_comb_n</th>\n",
       "      <th>airport_comb_e</th>\n",
       "      <th>ap_comb</th>\n",
       "    </tr>\n",
       "  </thead>\n",
       "  <tbody>\n",
       "    <tr>\n",
       "      <th>0</th>\n",
       "      <td>8</td>\n",
       "      <td>21</td>\n",
       "      <td>7</td>\n",
       "      <td>1934</td>\n",
       "      <td>732</td>\n",
       "      <td>19</td>\n",
       "      <td>34</td>\n",
       "      <td>0</td>\n",
       "      <td>0</td>\n",
       "      <td>1</td>\n",
       "      <td>...</td>\n",
       "      <td>0</td>\n",
       "      <td>2</td>\n",
       "      <td>0</td>\n",
       "      <td>0</td>\n",
       "      <td>0</td>\n",
       "      <td>0</td>\n",
       "      <td>0</td>\n",
       "      <td>0</td>\n",
       "      <td>1</td>\n",
       "      <td>0</td>\n",
       "    </tr>\n",
       "    <tr>\n",
       "      <th>1</th>\n",
       "      <td>4</td>\n",
       "      <td>20</td>\n",
       "      <td>3</td>\n",
       "      <td>1548</td>\n",
       "      <td>834</td>\n",
       "      <td>15</td>\n",
       "      <td>48</td>\n",
       "      <td>1</td>\n",
       "      <td>0</td>\n",
       "      <td>0</td>\n",
       "      <td>...</td>\n",
       "      <td>1</td>\n",
       "      <td>2</td>\n",
       "      <td>0</td>\n",
       "      <td>0</td>\n",
       "      <td>-1</td>\n",
       "      <td>0</td>\n",
       "      <td>0</td>\n",
       "      <td>0</td>\n",
       "      <td>1</td>\n",
       "      <td>0</td>\n",
       "    </tr>\n",
       "    <tr>\n",
       "      <th>2</th>\n",
       "      <td>9</td>\n",
       "      <td>2</td>\n",
       "      <td>5</td>\n",
       "      <td>1422</td>\n",
       "      <td>416</td>\n",
       "      <td>14</td>\n",
       "      <td>22</td>\n",
       "      <td>1</td>\n",
       "      <td>0</td>\n",
       "      <td>0</td>\n",
       "      <td>...</td>\n",
       "      <td>1</td>\n",
       "      <td>2</td>\n",
       "      <td>0</td>\n",
       "      <td>0</td>\n",
       "      <td>0</td>\n",
       "      <td>0</td>\n",
       "      <td>0</td>\n",
       "      <td>1</td>\n",
       "      <td>0</td>\n",
       "      <td>-1</td>\n",
       "    </tr>\n",
       "    <tr>\n",
       "      <th>3</th>\n",
       "      <td>11</td>\n",
       "      <td>25</td>\n",
       "      <td>6</td>\n",
       "      <td>1015</td>\n",
       "      <td>872</td>\n",
       "      <td>10</td>\n",
       "      <td>15</td>\n",
       "      <td>0</td>\n",
       "      <td>1</td>\n",
       "      <td>0</td>\n",
       "      <td>...</td>\n",
       "      <td>1</td>\n",
       "      <td>2</td>\n",
       "      <td>0</td>\n",
       "      <td>0</td>\n",
       "      <td>-1</td>\n",
       "      <td>0</td>\n",
       "      <td>1</td>\n",
       "      <td>0</td>\n",
       "      <td>0</td>\n",
       "      <td>1</td>\n",
       "    </tr>\n",
       "    <tr>\n",
       "      <th>4</th>\n",
       "      <td>10</td>\n",
       "      <td>7</td>\n",
       "      <td>6</td>\n",
       "      <td>1828</td>\n",
       "      <td>423</td>\n",
       "      <td>18</td>\n",
       "      <td>28</td>\n",
       "      <td>0</td>\n",
       "      <td>0</td>\n",
       "      <td>1</td>\n",
       "      <td>...</td>\n",
       "      <td>0</td>\n",
       "      <td>2</td>\n",
       "      <td>0</td>\n",
       "      <td>0</td>\n",
       "      <td>-1</td>\n",
       "      <td>0</td>\n",
       "      <td>0</td>\n",
       "      <td>0</td>\n",
       "      <td>1</td>\n",
       "      <td>0</td>\n",
       "    </tr>\n",
       "  </tbody>\n",
       "</table>\n",
       "<p>5 rows × 53 columns</p>\n",
       "</div>"
      ],
      "text/plain": [
       "   Month  DayofMonth  DayOfWeek  DepTime  Distance  DepTime_hour  DepTime_min  \\\n",
       "0      8          21          7     1934       732            19           34   \n",
       "1      4          20          3     1548       834            15           48   \n",
       "2      9           2          5     1422       416            14           22   \n",
       "3     11          25          6     1015       872            10           15   \n",
       "4     10           7          6     1828       423            18           28   \n",
       "\n",
       "   mae_Afternoon  mae_Morning  mae_Night  ...  region_orig_other  ctype_large  \\\n",
       "0              0            0          1  ...                  0            2   \n",
       "1              1            0          0  ...                  1            2   \n",
       "2              1            0          0  ...                  1            2   \n",
       "3              0            1          0  ...                  1            2   \n",
       "4              0            0          1  ...                  0            2   \n",
       "\n",
       "   ctype_medium  ctype_small  new_month  less_UC  airport_comb_p  \\\n",
       "0             0            0          0        0               0   \n",
       "1             0            0         -1        0               0   \n",
       "2             0            0          0        0               0   \n",
       "3             0            0         -1        0               1   \n",
       "4             0            0         -1        0               0   \n",
       "\n",
       "   airport_comb_n  airport_comb_e  ap_comb  \n",
       "0               0               1        0  \n",
       "1               0               1        0  \n",
       "2               1               0       -1  \n",
       "3               0               0        1  \n",
       "4               0               1        0  \n",
       "\n",
       "[5 rows x 53 columns]"
      ]
     },
     "execution_count": 2,
     "metadata": {},
     "output_type": "execute_result"
    }
   ],
   "source": [
    "data_train=pd.read_csv('datasimple(2).csv')\n",
    "data_train.head()"
   ]
  },
  {
   "cell_type": "code",
   "execution_count": 3,
   "metadata": {
    "collapsed": true,
    "jupyter": {
     "outputs_hidden": true
    }
   },
   "outputs": [
    {
     "name": "stdout",
     "output_type": "stream",
     "text": [
      "<class 'pandas.core.frame.DataFrame'>\n",
      "RangeIndex: 100000 entries, 0 to 99999\n",
      "Data columns (total 53 columns):\n",
      "Month                         100000 non-null int64\n",
      "DayofMonth                    100000 non-null int64\n",
      "DayOfWeek                     100000 non-null int64\n",
      "DepTime                       100000 non-null int64\n",
      "Distance                      100000 non-null int64\n",
      "DepTime_hour                  100000 non-null int64\n",
      "DepTime_min                   100000 non-null int64\n",
      "mae_Afternoon                 100000 non-null int64\n",
      "mae_Morning                   100000 non-null int64\n",
      "mae_Night                     100000 non-null int64\n",
      "Dest_type_large_airport       100000 non-null int64\n",
      "Dest_type_medium_airport      100000 non-null int64\n",
      "Dest_type_small_airport       100000 non-null int64\n",
      "Origin_type_large_airport     100000 non-null int64\n",
      "Origin_type_medium_airport    100000 non-null int64\n",
      "Origin_type_small_airport     100000 non-null int64\n",
      "region_dest_US-AK             100000 non-null int64\n",
      "region_dest_US-DE             100000 non-null int64\n",
      "region_dest_US-HI             100000 non-null int64\n",
      "region_dest_US-KY             100000 non-null int64\n",
      "region_dest_US-ME             100000 non-null int64\n",
      "region_dest_US-NE             100000 non-null int64\n",
      "region_dest_US-NJ             100000 non-null int64\n",
      "region_dest_US-SC             100000 non-null int64\n",
      "region_dest_US-UT             100000 non-null int64\n",
      "region_dest_US-WY             100000 non-null int64\n",
      "region_orig_PR-U-A            100000 non-null int64\n",
      "region_orig_US-AK             100000 non-null int64\n",
      "region_orig_US-DE             100000 non-null int64\n",
      "region_orig_US-GA             100000 non-null int64\n",
      "region_orig_US-HI             100000 non-null int64\n",
      "region_orig_US-ID             100000 non-null int64\n",
      "region_orig_US-IL             100000 non-null int64\n",
      "region_orig_US-MT             100000 non-null int64\n",
      "region_orig_US-ND             100000 non-null int64\n",
      "region_orig_US-NJ             100000 non-null int64\n",
      "region_orig_US-SD             100000 non-null int64\n",
      "region_orig_US-UT             100000 non-null int64\n",
      "region_orig_US-VT             100000 non-null int64\n",
      "region_orig_US-WV             100000 non-null int64\n",
      "region_orig_US-WY             100000 non-null int64\n",
      "region_orig_VI-U-A            100000 non-null int64\n",
      "region_dest_other             100000 non-null int64\n",
      "region_orig_other             100000 non-null int64\n",
      "ctype_large                   100000 non-null int64\n",
      "ctype_medium                  100000 non-null int64\n",
      "ctype_small                   100000 non-null int64\n",
      "new_month                     100000 non-null int64\n",
      "less_UC                       100000 non-null int64\n",
      "airport_comb_p                100000 non-null int64\n",
      "airport_comb_n                100000 non-null int64\n",
      "airport_comb_e                100000 non-null int64\n",
      "ap_comb                       100000 non-null int64\n",
      "dtypes: int64(53)\n",
      "memory usage: 40.4 MB\n"
     ]
    }
   ],
   "source": [
    "data_train.info(verbose=True)"
   ]
  },
  {
   "cell_type": "markdown",
   "metadata": {},
   "source": [
    "# Random Forest"
   ]
  },
  {
   "cell_type": "markdown",
   "metadata": {},
   "source": [
    "## first one (without resampling)"
   ]
  },
  {
   "cell_type": "markdown",
   "metadata": {},
   "source": [
    "Consider only mae, Distance, DepTime_hour, region_dest, region_orig, new_month, use class_label='balanced', without resampling."
   ]
  },
  {
   "cell_type": "code",
   "execution_count": 3,
   "metadata": {},
   "outputs": [
    {
     "data": {
      "text/html": [
       "<div>\n",
       "<style scoped>\n",
       "    .dataframe tbody tr th:only-of-type {\n",
       "        vertical-align: middle;\n",
       "    }\n",
       "\n",
       "    .dataframe tbody tr th {\n",
       "        vertical-align: top;\n",
       "    }\n",
       "\n",
       "    .dataframe thead th {\n",
       "        text-align: right;\n",
       "    }\n",
       "</style>\n",
       "<table border=\"1\" class=\"dataframe\">\n",
       "  <thead>\n",
       "    <tr style=\"text-align: right;\">\n",
       "      <th></th>\n",
       "      <th>Month</th>\n",
       "      <th>DayofMonth</th>\n",
       "      <th>DayOfWeek</th>\n",
       "      <th>DepTime</th>\n",
       "      <th>Distance</th>\n",
       "      <th>DepTime_hour</th>\n",
       "      <th>DepTime_min</th>\n",
       "      <th>mae_Afternoon</th>\n",
       "      <th>mae_Morning</th>\n",
       "      <th>mae_Night</th>\n",
       "      <th>...</th>\n",
       "      <th>region_orig_other</th>\n",
       "      <th>ctype_large</th>\n",
       "      <th>ctype_medium</th>\n",
       "      <th>ctype_small</th>\n",
       "      <th>new_month</th>\n",
       "      <th>less_UC</th>\n",
       "      <th>airport_comb_p</th>\n",
       "      <th>airport_comb_n</th>\n",
       "      <th>airport_comb_e</th>\n",
       "      <th>ap_comb</th>\n",
       "    </tr>\n",
       "  </thead>\n",
       "  <tbody>\n",
       "    <tr>\n",
       "      <th>56092</th>\n",
       "      <td>10</td>\n",
       "      <td>21</td>\n",
       "      <td>6</td>\n",
       "      <td>1555</td>\n",
       "      <td>102</td>\n",
       "      <td>15</td>\n",
       "      <td>55</td>\n",
       "      <td>1</td>\n",
       "      <td>0</td>\n",
       "      <td>0</td>\n",
       "      <td>...</td>\n",
       "      <td>0</td>\n",
       "      <td>1</td>\n",
       "      <td>1</td>\n",
       "      <td>0</td>\n",
       "      <td>-1</td>\n",
       "      <td>-1</td>\n",
       "      <td>0</td>\n",
       "      <td>0</td>\n",
       "      <td>0</td>\n",
       "      <td>0</td>\n",
       "    </tr>\n",
       "    <tr>\n",
       "      <th>4456</th>\n",
       "      <td>7</td>\n",
       "      <td>23</td>\n",
       "      <td>7</td>\n",
       "      <td>1118</td>\n",
       "      <td>1449</td>\n",
       "      <td>11</td>\n",
       "      <td>18</td>\n",
       "      <td>0</td>\n",
       "      <td>1</td>\n",
       "      <td>0</td>\n",
       "      <td>...</td>\n",
       "      <td>1</td>\n",
       "      <td>2</td>\n",
       "      <td>0</td>\n",
       "      <td>0</td>\n",
       "      <td>1</td>\n",
       "      <td>1</td>\n",
       "      <td>0</td>\n",
       "      <td>0</td>\n",
       "      <td>0</td>\n",
       "      <td>0</td>\n",
       "    </tr>\n",
       "    <tr>\n",
       "      <th>47685</th>\n",
       "      <td>10</td>\n",
       "      <td>1</td>\n",
       "      <td>7</td>\n",
       "      <td>1832</td>\n",
       "      <td>1464</td>\n",
       "      <td>18</td>\n",
       "      <td>32</td>\n",
       "      <td>0</td>\n",
       "      <td>0</td>\n",
       "      <td>1</td>\n",
       "      <td>...</td>\n",
       "      <td>1</td>\n",
       "      <td>2</td>\n",
       "      <td>0</td>\n",
       "      <td>0</td>\n",
       "      <td>-1</td>\n",
       "      <td>0</td>\n",
       "      <td>0</td>\n",
       "      <td>0</td>\n",
       "      <td>0</td>\n",
       "      <td>0</td>\n",
       "    </tr>\n",
       "    <tr>\n",
       "      <th>4721</th>\n",
       "      <td>4</td>\n",
       "      <td>18</td>\n",
       "      <td>2</td>\n",
       "      <td>1701</td>\n",
       "      <td>689</td>\n",
       "      <td>17</td>\n",
       "      <td>1</td>\n",
       "      <td>1</td>\n",
       "      <td>0</td>\n",
       "      <td>0</td>\n",
       "      <td>...</td>\n",
       "      <td>0</td>\n",
       "      <td>2</td>\n",
       "      <td>0</td>\n",
       "      <td>0</td>\n",
       "      <td>-1</td>\n",
       "      <td>1</td>\n",
       "      <td>0</td>\n",
       "      <td>0</td>\n",
       "      <td>0</td>\n",
       "      <td>0</td>\n",
       "    </tr>\n",
       "    <tr>\n",
       "      <th>4688</th>\n",
       "      <td>8</td>\n",
       "      <td>9</td>\n",
       "      <td>2</td>\n",
       "      <td>607</td>\n",
       "      <td>954</td>\n",
       "      <td>6</td>\n",
       "      <td>7</td>\n",
       "      <td>0</td>\n",
       "      <td>0</td>\n",
       "      <td>1</td>\n",
       "      <td>...</td>\n",
       "      <td>1</td>\n",
       "      <td>2</td>\n",
       "      <td>0</td>\n",
       "      <td>0</td>\n",
       "      <td>0</td>\n",
       "      <td>1</td>\n",
       "      <td>0</td>\n",
       "      <td>0</td>\n",
       "      <td>0</td>\n",
       "      <td>0</td>\n",
       "    </tr>\n",
       "  </tbody>\n",
       "</table>\n",
       "<p>5 rows × 53 columns</p>\n",
       "</div>"
      ],
      "text/plain": [
       "       Month  DayofMonth  DayOfWeek  DepTime  Distance  DepTime_hour  \\\n",
       "56092     10          21          6     1555       102            15   \n",
       "4456       7          23          7     1118      1449            11   \n",
       "47685     10           1          7     1832      1464            18   \n",
       "4721       4          18          2     1701       689            17   \n",
       "4688       8           9          2      607       954             6   \n",
       "\n",
       "       DepTime_min  mae_Afternoon  mae_Morning  mae_Night  ...  \\\n",
       "56092           55              1            0          0  ...   \n",
       "4456            18              0            1          0  ...   \n",
       "47685           32              0            0          1  ...   \n",
       "4721             1              1            0          0  ...   \n",
       "4688             7              0            0          1  ...   \n",
       "\n",
       "       region_orig_other  ctype_large  ctype_medium  ctype_small  new_month  \\\n",
       "56092                  0            1             1            0         -1   \n",
       "4456                   1            2             0            0          1   \n",
       "47685                  1            2             0            0         -1   \n",
       "4721                   0            2             0            0         -1   \n",
       "4688                   1            2             0            0          0   \n",
       "\n",
       "       less_UC  airport_comb_p  airport_comb_n  airport_comb_e  ap_comb  \n",
       "56092       -1               0               0               0        0  \n",
       "4456         1               0               0               0        0  \n",
       "47685        0               0               0               0        0  \n",
       "4721         1               0               0               0        0  \n",
       "4688         1               0               0               0        0  \n",
       "\n",
       "[5 rows x 53 columns]"
      ]
     },
     "execution_count": 3,
     "metadata": {},
     "output_type": "execute_result"
    }
   ],
   "source": [
    "from sklearn.model_selection import train_test_split\n",
    "\n",
    "X=data_train\n",
    "y=pd.read_csv('label.csv')\n",
    "y=y.dep_delayed_15min\n",
    "\n",
    "X_train, X_test, y_train, y_test = train_test_split(X, y, test_size=0.3, random_state=123,stratify=y)\n",
    "X_train.head()\n"
   ]
  },
  {
   "cell_type": "code",
   "execution_count": 4,
   "metadata": {},
   "outputs": [
    {
     "name": "stdout",
     "output_type": "stream",
     "text": [
      "Test Accuracy:  0.6823 \n",
      " Train Accuracy:  0.7468285714285714\n"
     ]
    }
   ],
   "source": [
    "from sklearn.pipeline import make_pipeline\n",
    "from sklearn.ensemble import RandomForestClassifier\n",
    "from sklearn.metrics import confusion_matrix\n",
    "\n",
    "rfpipe = RandomForestClassifier(n_estimators=100,n_jobs=-1,class_weight='balanced', max_depth=15, random_state=123)\n",
    "                      \n",
    "rfpipe.fit(X_train, y_train)\n",
    "y_pred_rf = rfpipe.predict(X_test)\n",
    "cmatrix_rf = confusion_matrix(y_test, y_pred_rf, labels=None, sample_weight=None)\n",
    "print('Test Accuracy: ', rfpipe.score(X_test, y_test), '\\n Train Accuracy: ', rfpipe.score(X_train, y_train))"
   ]
  },
  {
   "cell_type": "code",
   "execution_count": 48,
   "metadata": {},
   "outputs": [
    {
     "data": {
      "image/png": "[encoded data removed]",
      "text/plain": [
       "<Figure size 216x216 with 1 Axes>"
      ]
     },
     "metadata": {
      "needs_background": "light"
     },
     "output_type": "display_data"
    }
   ],
   "source": [
    "fig, ax = plt.subplots(figsize=(3, 3))\n",
    "ax.matshow(cmatrix_rf, cmap=plt.cm.Blues,alpha=0.6)\n",
    "for i in range(cmatrix_rf.shape[0]):\n",
    "    for j in range(cmatrix_rf.shape[1]):\n",
    "        ax.text(x=j, y=i, s=cmatrix_rf[i, j], va='center', ha='center')\n",
    "\n",
    "plt.xlabel('Predicted label')\n",
    "plt.ylabel('True label')\n",
    "\n",
    "plt.tight_layout()\n",
    "#plt.savefig('cm1.png', dpi=300)\n",
    "plt.show()"
   ]
  },
  {
   "cell_type": "code",
   "execution_count": 49,
   "metadata": {},
   "outputs": [
    {
     "name": "stdout",
     "output_type": "stream",
     "text": [
      " recall_score :  0.5897076842289515 \n",
      " precision_score :  0.3191549829480864 \n",
      " f1_score :  0.4141619030057164\n"
     ]
    }
   ],
   "source": [
    "from sklearn.metrics import recall_score\n",
    "rs_org_rf=recall_score(y_test, y_pred_rf, labels=True, pos_label=1, average='binary', sample_weight=None)\n",
    "from sklearn.metrics import precision_score\n",
    "ps_org_rf=precision_score(y_test, y_pred_rf, labels=None, pos_label=1, average='binary', sample_weight=None)\n",
    "from sklearn.metrics import f1_score\n",
    "f1_org_rf=f1_score(y_test, y_pred_rf, labels=None, pos_label=1, average='binary', sample_weight=None)\n",
    "\n",
    "print(' recall_score : ',rs_org_rf,'\\n precision_score : ',ps_org_rf,'\\n f1_score : ',f1_org_rf)"
   ]
  },
  {
   "cell_type": "markdown",
   "metadata": {},
   "source": [
    "### KFold validation"
   ]
  },
  {
   "cell_type": "code",
   "execution_count": 84,
   "metadata": {},
   "outputs": [
    {
     "name": "stdout",
     "output_type": "stream",
     "text": [
      "CV accuracy scores: [0.68990144 0.69271429 0.68514286 0.68928571 0.68171429 0.68771429\n",
      " 0.68471429 0.69071429 0.683      0.68852693]\n",
      "CV accuracy: 0.687 +/- 0.003\n"
     ]
    }
   ],
   "source": [
    "from sklearn.model_selection import cross_val_score\n",
    "\n",
    "\n",
    "scores = cross_val_score(estimator=rfpipe,\n",
    "                         X=X_train,\n",
    "                         y=y_train,\n",
    "                         cv=10,\n",
    "                         n_jobs=-1)\n",
    "print('CV accuracy scores: %s' % scores)\n",
    "print('CV accuracy: %.3f +/- %.3f' % (np.mean(scores), np.std(scores)))"
   ]
  },
  {
   "cell_type": "markdown",
   "metadata": {},
   "source": [
    "### Learning Curve"
   ]
  },
  {
   "cell_type": "code",
   "execution_count": 9,
   "metadata": {},
   "outputs": [
    {
     "data": {
      "image/png": "[encoded data removed]",
      "text/plain": [
       "<Figure size 432x288 with 1 Axes>"
      ]
     },
     "metadata": {
      "needs_background": "light"
     },
     "output_type": "display_data"
    }
   ],
   "source": [
    "from sklearn.model_selection import learning_curve\n",
    "\n",
    "train_sizes, train_scores, test_scores =\\\n",
    "                learning_curve(estimator=rfpipe,\n",
    "                               X=X_train,\n",
    "                               y=y_train,\n",
    "                               train_sizes=np.linspace(0.1, 1.0, 10),\n",
    "                               cv=10,\n",
    "                               n_jobs=-1)\n",
    "\n",
    "train_mean = np.mean(train_scores, axis=1)\n",
    "train_std = np.std(train_scores, axis=1)\n",
    "test_mean = np.mean(test_scores, axis=1)\n",
    "test_std = np.std(test_scores, axis=1)\n",
    "\n",
    "plt.plot(train_sizes, train_mean,\n",
    "         color='blue', marker='o',\n",
    "         markersize=5, label='Training accuracy')\n",
    "\n",
    "plt.fill_between(train_sizes,\n",
    "                 train_mean + train_std,\n",
    "                 train_mean - train_std,\n",
    "                 alpha=0.15, color='blue')\n",
    "\n",
    "plt.plot(train_sizes, test_mean,\n",
    "         color='green', linestyle='--',\n",
    "         marker='s', markersize=5,\n",
    "         label='Validation accuracy')\n",
    "\n",
    "plt.fill_between(train_sizes,\n",
    "                 test_mean + test_std,\n",
    "                 test_mean - test_std,\n",
    "                 alpha=0.15, color='green')\n",
    "\n",
    "plt.grid()\n",
    "plt.xlabel('Number of training examples')\n",
    "plt.ylabel('Accuracy')\n",
    "plt.legend(loc='lower right')\n",
    "plt.ylim([0.5, 1])\n",
    "plt.tight_layout()\n",
    "# plt.savefig('images/06_05.png', dpi=300)\n",
    "plt.show()"
   ]
  },
  {
   "cell_type": "markdown",
   "metadata": {},
   "source": [
    "### ROC and AUC"
   ]
  },
  {
   "cell_type": "code",
   "execution_count": 10,
   "metadata": {},
   "outputs": [
    {
     "data": {
      "image/png": "[encoded data removed]",
      "text/plain": [
       "<Figure size 504x360 with 1 Axes>"
      ]
     },
     "metadata": {
      "needs_background": "light"
     },
     "output_type": "display_data"
    }
   ],
   "source": [
    "from sklearn.metrics import roc_curve, auc\n",
    "from scipy import interp\n",
    "\n",
    "fig = plt.figure(figsize=(7, 5))\n",
    "\n",
    "#############################################################\n",
    "### TRAINING ROC CURVE\n",
    "train_probas = rfpipe.fit(X_train,\n",
    "                            y_train).predict_proba(X_train)\n",
    "\n",
    "fpr, tpr, thresholds = roc_curve(y_train,\n",
    "                                 train_probas[:, 1],\n",
    "                                 pos_label=1)\n",
    "roc_auc = auc(fpr, tpr)\n",
    "\n",
    "plt.plot(fpr,\n",
    "         tpr,\n",
    "         label='Train ROC (area = %0.2f)'\n",
    "               % (roc_auc))\n",
    "\n",
    "#############################################################\n",
    "### TEST ROC CURVE\n",
    "test_probas = rfpipe.predict_proba(X_test)\n",
    "\n",
    "fpr, tpr, thresholds = roc_curve(y_test,\n",
    "                                 test_probas[:, 1],\n",
    "                                 pos_label=1)\n",
    "roc_auc = auc(fpr, tpr)\n",
    "\n",
    "plt.plot(fpr,\n",
    "         tpr,\n",
    "         label='Test ROC (area = %0.2f)'\n",
    "               % (roc_auc))\n",
    "#############################################################\n",
    "\n",
    "plt.plot([0, 1],\n",
    "         [0, 1],\n",
    "         linestyle='--',\n",
    "         color=(0.6, 0.6, 0.6),\n",
    "         label='Random guessing')\n",
    "\n",
    "plt.plot([0, 0, 1],\n",
    "         [0, 1, 1],\n",
    "         linestyle=':',\n",
    "         color='black',\n",
    "         label='Perfect performance')\n",
    "\n",
    "plt.xlim([-0.05, 1.05])\n",
    "plt.ylim([-0.05, 1.05])\n",
    "plt.xlabel('False positive rate')\n",
    "plt.ylabel('True positive rate')\n",
    "plt.legend(loc=\"lower right\")\n",
    "\n",
    "plt.tight_layout()\n",
    "plt.savefig('roc1.png', dpi=300)\n",
    "plt.show()"
   ]
  },
  {
   "cell_type": "markdown",
   "metadata": {},
   "source": [
    "### Grid Search CV"
   ]
  },
  {
   "cell_type": "code",
   "execution_count": 18,
   "metadata": {},
   "outputs": [
    {
     "name": "stdout",
     "output_type": "stream",
     "text": [
      "0.7215516196259413\n",
      "Best Params: {'randomforestclassifier__max_depth': 8}\n"
     ]
    }
   ],
   "source": [
    "# max_depth and criterion \n",
    "from sklearn.model_selection import GridSearchCV\n",
    "\n",
    "param_grid = [{'randomforestclassifier__max_depth': range(8,32,4)}]\n",
    "\n",
    "scoring = {'rec': 'recall', 'acc': 'accuracy'}\n",
    "\n",
    "rfpipe = make_pipeline(RandomForestClassifier(n_estimators=100, class_weight='balanced', random_state=123))\n",
    "\n",
    "gs = GridSearchCV(estimator=rfpipe,\n",
    "                  param_grid=param_grid,\n",
    "                  iid=False,\n",
    "                  n_jobs=-1,\n",
    "                  scoring=scoring,\n",
    "                  cv=5,\n",
    "                 refit='rec', return_train_score=True)\n",
    "\n",
    "gs.fit(X_train, y_train)\n",
    "\n",
    "print(gs.best_score_)\n",
    "print('Best Params:', gs.best_params_)"
   ]
  },
  {
   "cell_type": "code",
   "execution_count": 19,
   "metadata": {},
   "outputs": [],
   "source": [
    "results = gs.cv_results_"
   ]
  },
  {
   "cell_type": "code",
   "execution_count": 26,
   "metadata": {},
   "outputs": [
    {
     "data": {
      "image/png": "[encoded data removed]",
      "text/plain": [
       "<Figure size 432x288 with 1 Axes>"
      ]
     },
     "metadata": {
      "needs_background": "light"
     },
     "output_type": "display_data"
    }
   ],
   "source": [
    "plt.title(\"GridSearchCV evaluating\",\n",
    "          fontsize=14)\n",
    "\n",
    "plt.xlabel(\"max_depth\")\n",
    "plt.ylabel(\"Score\")\n",
    "\n",
    "ax = plt.gca()\n",
    "ax.set_xlim(6, 32)\n",
    "ax.set_ylim(0.5, 1)\n",
    "\n",
    "# Get the regular numpy array from the MaskedArray\n",
    "X_axis = np.array(results['param_randomforestclassifier__max_depth'].data, dtype=float)\n",
    "\n",
    "for scorer, color in zip(sorted(scoring), ['blue', 'orange']):\n",
    "    for sample, style in (('train', '--'), ('test', '-')):\n",
    "        sample_score_mean = results['mean_%s_%s' % (sample, scorer)]\n",
    "        sample_score_std = results['std_%s_%s' % (sample, scorer)]\n",
    "        ax.fill_between(X_axis, sample_score_mean - sample_score_std,\n",
    "                        sample_score_mean + sample_score_std,\n",
    "                        alpha=0.1 if sample == 'test' else 0, color=color)\n",
    "        ax.plot(X_axis, sample_score_mean, style, color=color,\n",
    "                alpha=1 if sample == 'test' else 0.7,\n",
    "                label=\"%s (%s)\" % (scorer, sample))\n",
    "\n",
    "    best_index = np.nonzero(results['rank_test_%s' % scorer] == 1)[0][0]\n",
    "    best_score = results['mean_test_%s' % scorer][best_index]\n",
    "\n",
    "    # Plot a dotted vertical line at the best score for that scorer marked by x\n",
    "    ax.plot([X_axis[best_index], ] * 2, [0, best_score],\n",
    "            linestyle='-.', color=color, marker='x', markeredgewidth=3, ms=8)\n",
    "\n",
    "    # Annotate the best score for that scorer\n",
    "    ax.annotate(\"%0.2f\" % best_score,\n",
    "                (X_axis[best_index], best_score + 0.005))\n",
    "\n",
    "plt.legend(loc=\"best\")\n",
    "plt.grid(False)\n",
    "#plt.savefig('gscv1.png', dpi=300)\n",
    "plt.show()"
   ]
  },
  {
   "cell_type": "markdown",
   "metadata": {},
   "source": [
    "## Second one (with oversampling SMOTE)"
   ]
  },
  {
   "cell_type": "markdown",
   "metadata": {},
   "source": [
    "### SMOTE"
   ]
  },
  {
   "cell_type": "code",
   "execution_count": 28,
   "metadata": {},
   "outputs": [
    {
     "name": "stdout",
     "output_type": "stream",
     "text": [
      "[(0, 56669), (1, 56669)]\n"
     ]
    }
   ],
   "source": [
    "from imblearn.over_sampling import SMOTE\n",
    "from collections import Counter\n",
    "\n",
    "X_resampled, y_resampled = SMOTE(random_state=123).fit_resample(X_train,y_train)\n",
    "print(sorted(Counter(y_resampled).items()))"
   ]
  },
  {
   "cell_type": "code",
   "execution_count": 29,
   "metadata": {},
   "outputs": [
    {
     "data": {
      "text/plain": [
       "(113338, 53)"
      ]
     },
     "execution_count": 29,
     "metadata": {},
     "output_type": "execute_result"
    }
   ],
   "source": [
    "np.shape(X_resampled)"
   ]
  },
  {
   "cell_type": "markdown",
   "metadata": {},
   "source": [
    "### second model"
   ]
  },
  {
   "cell_type": "code",
   "execution_count": 52,
   "metadata": {},
   "outputs": [
    {
     "name": "stdout",
     "output_type": "stream",
     "text": [
      "Test Accuracy:  0.7703666666666666 \n",
      " Train Accuracy:  0.9758797653958944\n"
     ]
    }
   ],
   "source": [
    "from sklearn.pipeline import make_pipeline\n",
    "from sklearn.ensemble import RandomForestClassifier\n",
    "from sklearn.metrics import confusion_matrix\n",
    "\n",
    "rfpipe = RandomForestClassifier(n_estimators=100,n_jobs=-1,max_depth=28,random_state=123)\n",
    "                      \n",
    "rfpipe.fit(X_resampled, y_resampled)\n",
    "y_pred_rf = rfpipe.predict(X_test)\n",
    "cmatrix_rf = confusion_matrix(y_test, y_pred_rf, labels=None, sample_weight=None)\n",
    "print('Test Accuracy: ', rfpipe.score(X_test, y_test), '\\n Train Accuracy: ', rfpipe.score(X_resampled, y_resampled))"
   ]
  },
  {
   "cell_type": "code",
   "execution_count": 53,
   "metadata": {},
   "outputs": [
    {
     "data": {
      "text/plain": [
       "array([[21520,  2767],\n",
       "       [ 4122,  1591]], dtype=int64)"
      ]
     },
     "execution_count": 53,
     "metadata": {},
     "output_type": "execute_result"
    }
   ],
   "source": [
    "cmatrix_rf"
   ]
  },
  {
   "cell_type": "code",
   "execution_count": 55,
   "metadata": {},
   "outputs": [
    {
     "data": {
      "image/png": "[encoded data removed]",
      "text/plain": [
       "<Figure size 216x216 with 1 Axes>"
      ]
     },
     "metadata": {
      "needs_background": "light"
     },
     "output_type": "display_data"
    }
   ],
   "source": [
    "fig, ax = plt.subplots(figsize=(3, 3))\n",
    "ax.matshow(cmatrix_rf, cmap=plt.cm.Blues,alpha=0.6)\n",
    "for i in range(cmatrix_rf.shape[0]):\n",
    "    for j in range(cmatrix_rf.shape[1]):\n",
    "        ax.text(x=j, y=i, s=cmatrix_rf[i, j], va='center', ha='center')\n",
    "\n",
    "plt.xlabel('Predicted label')\n",
    "plt.ylabel('True label')\n",
    "\n",
    "plt.tight_layout()\n",
    "#plt.savefig('cm2.png', dpi=300)\n",
    "plt.show()"
   ]
  },
  {
   "cell_type": "code",
   "execution_count": 56,
   "metadata": {},
   "outputs": [
    {
     "name": "stdout",
     "output_type": "stream",
     "text": [
      " recall_score :  0.27848765972343775 \n",
      " precision_score :  0.3650757228086278 \n",
      " f1_score :  0.31595670737761894\n"
     ]
    }
   ],
   "source": [
    "from sklearn.metrics import recall_score\n",
    "rs_org_rf=recall_score(y_test, y_pred_rf, labels=True, pos_label=1, average='binary', sample_weight=None)\n",
    "from sklearn.metrics import precision_score\n",
    "ps_org_rf=precision_score(y_test, y_pred_rf, labels=None, pos_label=1, average='binary', sample_weight=None)\n",
    "from sklearn.metrics import f1_score\n",
    "f1_org_rf=f1_score(y_test, y_pred_rf, labels=None, pos_label=1, average='binary', sample_weight=None)\n",
    "\n",
    "print(' recall_score : ',rs_org_rf,'\\n precision_score : ',ps_org_rf,'\\n f1_score : ',f1_org_rf)"
   ]
  },
  {
   "cell_type": "markdown",
   "metadata": {},
   "source": [
    "### Cross validation"
   ]
  },
  {
   "cell_type": "code",
   "execution_count": 41,
   "metadata": {},
   "outputs": [
    {
     "name": "stdout",
     "output_type": "stream",
     "text": [
      "CV accuracy scores: [0.68095994 0.68051879 0.77995412 0.83712723 0.83589201 0.83545086\n",
      " 0.83280395 0.83492148 0.83130404 0.83242146]\n",
      "CV accuracy: 0.798 +/- 0.061\n"
     ]
    }
   ],
   "source": [
    "from sklearn.model_selection import cross_val_score\n",
    "\n",
    "\n",
    "scores = cross_val_score(estimator=rfpipe,\n",
    "                         X=X_resampled,\n",
    "                         y=y_resampled,\n",
    "                         cv=10,\n",
    "                         n_jobs=-1)\n",
    "print('CV accuracy scores: %s' % scores)\n",
    "print('CV accuracy: %.3f +/- %.3f' % (np.mean(scores), np.std(scores)))"
   ]
  },
  {
   "cell_type": "markdown",
   "metadata": {},
   "source": [
    "### Learning Curve"
   ]
  },
  {
   "cell_type": "code",
   "execution_count": 15,
   "metadata": {},
   "outputs": [
    {
     "data": {
      "image/png": "[encoded data removed]",
      "text/plain": [
       "<Figure size 432x288 with 1 Axes>"
      ]
     },
     "metadata": {
      "needs_background": "light"
     },
     "output_type": "display_data"
    }
   ],
   "source": [
    "from sklearn.model_selection import learning_curve\n",
    "\n",
    "train_sizes, train_scores, test_scores =\\\n",
    "                learning_curve(estimator=rfpipe,\n",
    "                               X=X_resampled,\n",
    "                               y=y_resampled,\n",
    "                               train_sizes=np.linspace(0.1, 1.0, 10),\n",
    "                               cv=10,\n",
    "                               n_jobs=-1)\n",
    "\n",
    "train_mean = np.mean(train_scores, axis=1)\n",
    "train_std = np.std(train_scores, axis=1)\n",
    "test_mean = np.mean(test_scores, axis=1)\n",
    "test_std = np.std(test_scores, axis=1)\n",
    "\n",
    "plt.plot(train_sizes, train_mean,\n",
    "         color='blue', marker='o',\n",
    "         markersize=5, label='Training accuracy')\n",
    "\n",
    "plt.fill_between(train_sizes,\n",
    "                 train_mean + train_std,\n",
    "                 train_mean - train_std,\n",
    "                 alpha=0.15, color='blue')\n",
    "\n",
    "plt.plot(train_sizes, test_mean,\n",
    "         color='green', linestyle='--',\n",
    "         marker='s', markersize=5,\n",
    "         label='Validation accuracy')\n",
    "\n",
    "plt.fill_between(train_sizes,\n",
    "                 test_mean + test_std,\n",
    "                 test_mean - test_std,\n",
    "                 alpha=0.15, color='green')\n",
    "\n",
    "plt.grid()\n",
    "plt.xlabel('Number of training examples')\n",
    "plt.ylabel('Accuracy')\n",
    "plt.legend(loc='lower right')\n",
    "plt.ylim([0.5, 1])\n",
    "plt.tight_layout()\n",
    "# plt.savefig('images/06_05.png', dpi=300)\n",
    "plt.show()"
   ]
  },
  {
   "cell_type": "markdown",
   "metadata": {},
   "source": [
    "### ROC and AUC"
   ]
  },
  {
   "cell_type": "code",
   "execution_count": 16,
   "metadata": {},
   "outputs": [
    {
     "data": {
      "image/png": "[encoded data removed]",
      "text/plain": [
       "<Figure size 504x360 with 1 Axes>"
      ]
     },
     "metadata": {
      "needs_background": "light"
     },
     "output_type": "display_data"
    }
   ],
   "source": [
    "from sklearn.metrics import roc_curve, auc\n",
    "from scipy import interp\n",
    "\n",
    "fig = plt.figure(figsize=(7, 5))\n",
    "\n",
    "#############################################################\n",
    "### TRAINING ROC CURVE\n",
    "train_probas = rfpipe.fit(X_resampled,\n",
    "                            y_resampled).predict_proba(X_resampled)\n",
    "\n",
    "fpr, tpr, thresholds = roc_curve(y_resampled,\n",
    "                                 train_probas[:, 1],\n",
    "                                 pos_label=1)\n",
    "roc_auc = auc(fpr, tpr)\n",
    "\n",
    "plt.plot(fpr,\n",
    "         tpr,\n",
    "         label='Train ROC (area = %0.2f)'\n",
    "               % (roc_auc))\n",
    "\n",
    "#############################################################\n",
    "### TEST ROC CURVE\n",
    "test_probas = rfpipe.predict_proba(X_test)\n",
    "\n",
    "fpr, tpr, thresholds = roc_curve(y_test,\n",
    "                                 test_probas[:, 1],\n",
    "                                 pos_label=1)\n",
    "roc_auc = auc(fpr, tpr)\n",
    "\n",
    "plt.plot(fpr,\n",
    "         tpr,\n",
    "         label='Test ROC (area = %0.2f)'\n",
    "               % (roc_auc))\n",
    "#############################################################\n",
    "\n",
    "plt.plot([0, 1],\n",
    "         [0, 1],\n",
    "         linestyle='--',\n",
    "         color=(0.6, 0.6, 0.6),\n",
    "         label='Random guessing')\n",
    "\n",
    "plt.plot([0, 0, 1],\n",
    "         [0, 1, 1],\n",
    "         linestyle=':',\n",
    "         color='black',\n",
    "         label='Perfect performance')\n",
    "\n",
    "plt.xlim([-0.05, 1.05])\n",
    "plt.ylim([-0.05, 1.05])\n",
    "plt.xlabel('False positive rate')\n",
    "plt.ylabel('True positive rate')\n",
    "plt.legend(loc=\"lower right\")\n",
    "\n",
    "plt.tight_layout()\n",
    "plt.show()"
   ]
  },
  {
   "cell_type": "markdown",
   "metadata": {},
   "source": [
    "### Grid Search CV"
   ]
  },
  {
   "cell_type": "code",
   "execution_count": 30,
   "metadata": {},
   "outputs": [
    {
     "name": "stdout",
     "output_type": "stream",
     "text": [
      "0.7921291211021979\n",
      "Best Params: {'randomforestclassifier__max_depth': 28}\n"
     ]
    }
   ],
   "source": [
    "# max_depth and criterion \n",
    "from sklearn.model_selection import GridSearchCV\n",
    "\n",
    "param_grid = [{'randomforestclassifier__max_depth': range(8,32,4)}]\n",
    "\n",
    "scoring = {'rec': 'recall', 'acc': 'accuracy'}\n",
    "\n",
    "rfpipe = make_pipeline(RandomForestClassifier(n_estimators=100, random_state=123))\n",
    "\n",
    "gs = GridSearchCV(estimator=rfpipe,\n",
    "                  param_grid=param_grid,\n",
    "                  iid=False,\n",
    "                  n_jobs=-1,\n",
    "                  scoring=scoring,\n",
    "                  cv=5,\n",
    "                  refit='rec', return_train_score=True)\n",
    "\n",
    "gs.fit(X_resampled, y_resampled)\n",
    "\n",
    "print(gs.best_score_)\n",
    "print('Best Params:', gs.best_params_)"
   ]
  },
  {
   "cell_type": "code",
   "execution_count": 31,
   "metadata": {},
   "outputs": [],
   "source": [
    "results = gs.cv_results_"
   ]
  },
  {
   "cell_type": "code",
   "execution_count": 66,
   "metadata": {},
   "outputs": [
    {
     "data": {
      "image/png": "[encoded data removed]",
      "text/plain": [
       "<Figure size 432x288 with 1 Axes>"
      ]
     },
     "metadata": {
      "needs_background": "light"
     },
     "output_type": "display_data"
    }
   ],
   "source": [
    "plt.title(\"GridSearchCV evaluating\", fontsize=14)\n",
    "\n",
    "plt.xlabel(\"max_depth\")\n",
    "plt.ylabel(\"Score\")\n",
    "\n",
    "ax = plt.gca()\n",
    "ax.set_xlim(6, 32)\n",
    "ax.set_ylim(0, 1)\n",
    "\n",
    "# Get the regular numpy array from the MaskedArray\n",
    "X_axis = np.array(results['param_randomforestclassifier__max_depth'].data, dtype=float)\n",
    "\n",
    "for scorer, color in zip(sorted(scoring), ['blue', 'orange']):\n",
    "    for sample, style in (('train', '--'), ('test', '-')):\n",
    "        sample_score_mean = results['mean_%s_%s' % (sample, scorer)]\n",
    "        sample_score_std = results['std_%s_%s' % (sample, scorer)]\n",
    "        ax.fill_between(X_axis, sample_score_mean - sample_score_std,\n",
    "                        sample_score_mean + sample_score_std,\n",
    "                        alpha=0.1 if sample == 'test' else 0, color=color)\n",
    "        ax.plot(X_axis, sample_score_mean, style, color=color,\n",
    "                alpha=1 if sample == 'test' else 0.7,\n",
    "                label=\"%s (%s)\" % (scorer, sample))\n",
    "\n",
    "    best_index = np.nonzero(results['rank_test_%s' % scorer] == 1)[0][0]\n",
    "    best_score = results['mean_test_%s' % scorer][best_index]\n",
    "\n",
    "    # Plot a dotted vertical line at the best score for that scorer marked by x\n",
    "    ax.plot([X_axis[best_index], ] * 2, [0, best_score],\n",
    "            linestyle='-.', color=color, marker='x', markeredgewidth=3, ms=8)\n",
    "\n",
    "    # Annotate the best score for that scorer\n",
    "    ax.annotate(\"%0.2f\" % best_score,\n",
    "                (X_axis[best_index], best_score + 0.005))\n",
    "\n",
    "plt.legend(loc=\"best\")\n",
    "plt.grid(False)\n",
    "#plt.savefig('gscv2.png', dpi=300)\n",
    "plt.show()"
   ]
  },
  {
   "cell_type": "markdown",
   "metadata": {},
   "source": [
    "## Fourth one (with over and under sampling)"
   ]
  },
  {
   "cell_type": "markdown",
   "metadata": {},
   "source": [
    "### SMOTETomek "
   ]
  },
  {
   "cell_type": "code",
   "execution_count": 57,
   "metadata": {},
   "outputs": [
    {
     "name": "stdout",
     "output_type": "stream",
     "text": [
      "[(0, 54560), (1, 54560)]\n"
     ]
    }
   ],
   "source": [
    "from imblearn.combine import SMOTETomek\n",
    "st = SMOTETomek(random_state=123)\n",
    "X_resampled, y_resampled = st.fit_resample(X_train, y_train)\n",
    "print(sorted(Counter(y_resampled).items()))"
   ]
  },
  {
   "cell_type": "markdown",
   "metadata": {},
   "source": [
    "### forth model"
   ]
  },
  {
   "cell_type": "code",
   "execution_count": 58,
   "metadata": {},
   "outputs": [
    {
     "data": {
      "text/plain": [
       "0.7044"
      ]
     },
     "execution_count": 58,
     "metadata": {},
     "output_type": "execute_result"
    }
   ],
   "source": [
    "from sklearn.pipeline import make_pipeline\n",
    "from sklearn.ensemble import RandomForestClassifier\n",
    "from sklearn.metrics import confusion_matrix\n",
    "\n",
    "rfpipe = make_pipeline(RandomForestClassifier(n_estimators=100,n_jobs=-1,random_state=123))\n",
    "                      \n",
    "rfpipe.fit(X_resampled, y_resampled)\n",
    "\n",
    "y_pred_rf = rfpipe.predict(X_test)\n",
    "cmatrix_rf = confusion_matrix(y_test, y_pred_rf, labels=None, sample_weight=None)\n",
    "rfpipe.score(X_test, y_test)"
   ]
  },
  {
   "cell_type": "code",
   "execution_count": 59,
   "metadata": {},
   "outputs": [
    {
     "data": {
      "text/plain": [
       "array([[18810,  5477],\n",
       "       [ 3391,  2322]], dtype=int64)"
      ]
     },
     "execution_count": 59,
     "metadata": {},
     "output_type": "execute_result"
    }
   ],
   "source": [
    "cmatrix_rf"
   ]
  },
  {
   "cell_type": "code",
   "execution_count": 60,
   "metadata": {},
   "outputs": [
    {
     "name": "stdout",
     "output_type": "stream",
     "text": [
      " recall_score :  0.4064414493260984 \n",
      " precision_score :  0.29773047826644444 \n",
      " f1_score :  0.34369449378330375\n"
     ]
    }
   ],
   "source": [
    "from sklearn.metrics import recall_score\n",
    "rs_org_rf=recall_score(y_test, y_pred_rf, labels=True, pos_label=1, average='binary', sample_weight=None)\n",
    "from sklearn.metrics import precision_score\n",
    "ps_org_rf=precision_score(y_test, y_pred_rf, labels=None, pos_label=1, average='binary', sample_weight=None)\n",
    "from sklearn.metrics import f1_score\n",
    "f1_org_rf=f1_score(y_test, y_pred_rf, labels=None, pos_label=1, average='binary', sample_weight=None)\n",
    "\n",
    "print(' recall_score : ',rs_org_rf,'\\n precision_score : ',ps_org_rf,'\\n f1_score : ',f1_org_rf)"
   ]
  },
  {
   "cell_type": "markdown",
   "metadata": {},
   "source": [
    "### CV"
   ]
  },
  {
   "cell_type": "code",
   "execution_count": 61,
   "metadata": {},
   "outputs": [
    {
     "name": "stdout",
     "output_type": "stream",
     "text": [
      "CV accuracy scores: [0.68371515 0.68273841 0.78396377 0.83581957 0.83359972 0.83732907\n",
      " 0.83262298 0.83741787 0.83552398 0.83738899]\n",
      "CV accuracy: 0.800 +/- 0.060\n"
     ]
    }
   ],
   "source": [
    "from sklearn.model_selection import cross_val_score\n",
    "\n",
    "\n",
    "scores = cross_val_score(estimator=rfpipe,\n",
    "                         X=X_resampled,\n",
    "                         y=y_resampled,\n",
    "                         cv=10,\n",
    "                         n_jobs=-1)\n",
    "print('CV accuracy scores: %s' % scores)\n",
    "print('CV accuracy: %.3f +/- %.3f' % (np.mean(scores), np.std(scores)))"
   ]
  },
  {
   "cell_type": "markdown",
   "metadata": {},
   "source": [
    "### learning curve"
   ]
  },
  {
   "cell_type": "code",
   "execution_count": 62,
   "metadata": {},
   "outputs": [
    {
     "data": {
      "image/png": "[encoded data removed]",
      "text/plain": [
       "<Figure size 432x288 with 1 Axes>"
      ]
     },
     "metadata": {
      "needs_background": "light"
     },
     "output_type": "display_data"
    }
   ],
   "source": [
    "from sklearn.model_selection import learning_curve\n",
    "\n",
    "train_sizes, train_scores, test_scores =\\\n",
    "                learning_curve(estimator=rfpipe,\n",
    "                               X=X_resampled,\n",
    "                               y=y_resampled,\n",
    "                               train_sizes=np.linspace(0.1, 1.0, 10),\n",
    "                               cv=10,\n",
    "                               n_jobs=2)\n",
    "\n",
    "train_mean = np.mean(train_scores, axis=1)\n",
    "train_std = np.std(train_scores, axis=1)\n",
    "test_mean = np.mean(test_scores, axis=1)\n",
    "test_std = np.std(test_scores, axis=1)\n",
    "\n",
    "plt.plot(train_sizes, train_mean,\n",
    "         color='blue', marker='o',\n",
    "         markersize=5, label='Training accuracy')\n",
    "\n",
    "plt.fill_between(train_sizes,\n",
    "                 train_mean + train_std,\n",
    "                 train_mean - train_std,\n",
    "                 alpha=0.15, color='blue')\n",
    "\n",
    "plt.plot(train_sizes, test_mean,\n",
    "         color='green', linestyle='--',\n",
    "         marker='s', markersize=5,\n",
    "         label='Validation accuracy')\n",
    "\n",
    "plt.fill_between(train_sizes,\n",
    "                 test_mean + test_std,\n",
    "                 test_mean - test_std,\n",
    "                 alpha=0.15, color='green')\n",
    "\n",
    "plt.grid()\n",
    "plt.xlabel('Number of training examples')\n",
    "plt.ylabel('Accuracy')\n",
    "plt.legend(loc='lower right')\n",
    "plt.ylim([0.6, 1])\n",
    "plt.tight_layout()\n",
    "# plt.savefig('images/06_05.png', dpi=300)\n",
    "plt.show()"
   ]
  },
  {
   "cell_type": "markdown",
   "metadata": {},
   "source": [
    "### ROC and AUC"
   ]
  },
  {
   "cell_type": "code",
   "execution_count": 63,
   "metadata": {},
   "outputs": [
    {
     "data": {
      "image/png": "[encoded data removed]",
      "text/plain": [
       "<Figure size 504x360 with 1 Axes>"
      ]
     },
     "metadata": {
      "needs_background": "light"
     },
     "output_type": "display_data"
    }
   ],
   "source": [
    "from sklearn.metrics import roc_curve, auc\n",
    "from scipy import interp\n",
    "\n",
    "fig = plt.figure(figsize=(7, 5))\n",
    "\n",
    "#############################################################\n",
    "### TRAINING ROC CURVE\n",
    "train_probas = rfpipe.fit(X_resampled,\n",
    "                            y_resampled).predict_proba(X_resampled)\n",
    "\n",
    "fpr, tpr, thresholds = roc_curve(y_resampled,\n",
    "                                 train_probas[:, 1],\n",
    "                                 pos_label=1)\n",
    "roc_auc = auc(fpr, tpr)\n",
    "\n",
    "plt.plot(fpr,\n",
    "         tpr,\n",
    "         label='Train ROC (area = %0.2f)'\n",
    "               % (roc_auc))\n",
    "\n",
    "#############################################################\n",
    "### TEST ROC CURVE\n",
    "test_probas = rfpipe.predict_proba(X_test)\n",
    "\n",
    "fpr, tpr, thresholds = roc_curve(y_test,\n",
    "                                 test_probas[:, 1],\n",
    "                                 pos_label=1)\n",
    "roc_auc = auc(fpr, tpr)\n",
    "\n",
    "plt.plot(fpr,\n",
    "         tpr,\n",
    "         label='Test ROC (area = %0.2f)'\n",
    "               % (roc_auc))\n",
    "#############################################################\n",
    "\n",
    "plt.plot([0, 1],\n",
    "         [0, 1],\n",
    "         linestyle='--',\n",
    "         color=(0.6, 0.6, 0.6),\n",
    "         label='Random guessing')\n",
    "\n",
    "plt.plot([0, 0, 1],\n",
    "         [0, 1, 1],\n",
    "         linestyle=':',\n",
    "         color='black',\n",
    "         label='Perfect performance')\n",
    "\n",
    "plt.xlim([-0.05, 1.05])\n",
    "plt.ylim([-0.05, 1.05])\n",
    "plt.xlabel('False positive rate')\n",
    "plt.ylabel('True positive rate')\n",
    "plt.legend(loc=\"lower right\")\n",
    "\n",
    "plt.tight_layout()\n",
    "plt.show()"
   ]
  },
  {
   "cell_type": "markdown",
   "metadata": {},
   "source": [
    "### Grid Search"
   ]
  },
  {
   "cell_type": "code",
   "execution_count": 58,
   "metadata": {},
   "outputs": [
    {
     "name": "stdout",
     "output_type": "stream",
     "text": [
      "0.7949230205278592\n",
      "Best Params: {'randomforestclassifier__max_depth': 28}\n"
     ]
    }
   ],
   "source": [
    "# max_depth and criterion \n",
    "from sklearn.model_selection import GridSearchCV\n",
    "\n",
    "param_grid = [{'randomforestclassifier__max_depth': range(8,32,4)}]\n",
    "\n",
    "scoring = {'rec': 'recall', 'acc': 'accuracy'}\n",
    "\n",
    "rfpipe = make_pipeline(RandomForestClassifier(n_estimators=100, random_state=123))\n",
    "\n",
    "gs = GridSearchCV(estimator=rfpipe,\n",
    "                  param_grid=param_grid,\n",
    "                  iid=False,\n",
    "                  n_jobs=-1,\n",
    "                  scoring=scoring,\n",
    "                  cv=5,\n",
    "                  refit='rec', return_train_score=True)\n",
    "\n",
    "gs.fit(X_resampled, y_resampled)\n",
    "\n",
    "print(gs.best_score_)\n",
    "print('Best Params:', gs.best_params_)"
   ]
  },
  {
   "cell_type": "code",
   "execution_count": 60,
   "metadata": {},
   "outputs": [],
   "source": [
    "results = gs.cv_results_"
   ]
  },
  {
   "cell_type": "code",
   "execution_count": 65,
   "metadata": {},
   "outputs": [
    {
     "data": {
      "image/png": "[encoded data removed]",
      "text/plain": [
       "<Figure size 432x288 with 1 Axes>"
      ]
     },
     "metadata": {
      "needs_background": "light"
     },
     "output_type": "display_data"
    }
   ],
   "source": [
    "plt.title(\"GridSearchCV evaluating\", fontsize=14)\n",
    "\n",
    "plt.xlabel(\"max_depth\")\n",
    "plt.ylabel(\"Score\")\n",
    "\n",
    "ax = plt.gca()\n",
    "ax.set_xlim(6, 32)\n",
    "ax.set_ylim(0, 1)\n",
    "\n",
    "# Get the regular numpy array from the MaskedArray\n",
    "X_axis = np.array(results['param_randomforestclassifier__max_depth'].data, dtype=float)\n",
    "\n",
    "for scorer, color in zip(sorted(scoring), ['blue', 'orange']):\n",
    "    for sample, style in (('train', '--'), ('test', '-')):\n",
    "        sample_score_mean = results['mean_%s_%s' % (sample, scorer)]\n",
    "        sample_score_std = results['std_%s_%s' % (sample, scorer)]\n",
    "        ax.fill_between(X_axis, sample_score_mean - sample_score_std,\n",
    "                        sample_score_mean + sample_score_std,\n",
    "                        alpha=0.1 if sample == 'test' else 0, color=color)\n",
    "        ax.plot(X_axis, sample_score_mean, style, color=color,\n",
    "                alpha=1 if sample == 'test' else 0.7,\n",
    "                label=\"%s (%s)\" % (scorer, sample))\n",
    "\n",
    "    best_index = np.nonzero(results['rank_test_%s' % scorer] == 1)[0][0]\n",
    "    best_score = results['mean_test_%s' % scorer][best_index]\n",
    "\n",
    "    # Plot a dotted vertical line at the best score for that scorer marked by x\n",
    "    ax.plot([X_axis[best_index], ] * 2, [0, best_score],\n",
    "            linestyle='-.', color=color, marker='x', markeredgewidth=3, ms=8)\n",
    "\n",
    "    # Annotate the best score for that scorer\n",
    "    ax.annotate(\"%0.2f\" % best_score,\n",
    "                (X_axis[best_index], best_score + 0.005))\n",
    "\n",
    "plt.legend(loc=\"best\")\n",
    "plt.grid(False)\n",
    "plt.savefig('gscv3.png', dpi=300)\n",
    "plt.show()"
   ]
  }
 ],
 "metadata": {
  "kernelspec": {
   "display_name": "Python 3",
   "language": "python",
   "name": "python3"
  },
  "language_info": {
   "codemirror_mode": {
    "name": "ipython",
    "version": 3
   },
   "file_extension": ".py",
   "mimetype": "text/x-python",
   "name": "python",
   "nbconvert_exporter": "python",
   "pygments_lexer": "ipython3",
   "version": "3.7.3"
  },
  "toc": {
   "base_numbering": 1,
   "nav_menu": {},
   "number_sections": true,
   "sideBar": true,
   "skip_h1_title": false,
   "title_cell": "Table of Contents",
   "title_sidebar": "Contents",
   "toc_cell": false,
   "toc_position": {},
   "toc_section_display": true,
   "toc_window_display": false
  },
  "toc-autonumbering": true,
  "toc-showcode": false,
  "toc-showmarkdowntxt": false,
  "toc-showtags": false
 },
 "nbformat": 4,
 "nbformat_minor": 4
}
